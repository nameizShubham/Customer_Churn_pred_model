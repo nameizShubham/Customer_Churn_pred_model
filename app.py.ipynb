{
 "cells": [
  {
   "cell_type": "code",
   "execution_count": 1,
   "id": "f3de9cd8",
   "metadata": {},
   "outputs": [],
   "source": [
    "import pandas as pd\n",
    "from flask import Flask, request, render_template\n",
    "import pickle"
   ]
  },
  {
   "cell_type": "code",
   "execution_count": 2,
   "id": "c6c52efb",
   "metadata": {},
   "outputs": [],
   "source": [
    "app = Flask(\"__name__\")"
   ]
  },
  {
   "cell_type": "code",
   "execution_count": 3,
   "id": "91553de0",
   "metadata": {},
   "outputs": [],
   "source": [
    "@app.route(\"/\")\n",
    "def loadPage():\n",
    "    return render_template('home.html', query=\"\")"
   ]
  },
  {
   "cell_type": "code",
   "execution_count": null,
   "id": "5f4dbcb1",
   "metadata": {},
   "outputs": [
    {
     "name": "stdout",
     "output_type": "stream",
     "text": [
      " * Serving Flask app '__name__'\n",
      " * Debug mode: off\n"
     ]
    },
    {
     "name": "stderr",
     "output_type": "stream",
     "text": [
      "WARNING: This is a development server. Do not use it in a production deployment. Use a production WSGI server instead.\n",
      " * Running on http://127.0.0.1:5000\n",
      "Press CTRL+C to quit\n",
      "127.0.0.1 - - [15/Jun/2024 22:59:20] \"GET / HTTP/1.1\" 200 -\n",
      "[2024-06-15 23:00:30,616] ERROR in app: Exception on / [POST]\n",
      "Traceback (most recent call last):\n",
      "  File \"C:\\Users\\st803\\anaconda3\\lib\\site-packages\\flask\\app.py\", line 2529, in wsgi_app\n",
      "    response = self.full_dispatch_request()\n",
      "  File \"C:\\Users\\st803\\anaconda3\\lib\\site-packages\\flask\\app.py\", line 1825, in full_dispatch_request\n",
      "    rv = self.handle_user_exception(e)\n",
      "  File \"C:\\Users\\st803\\anaconda3\\lib\\site-packages\\flask\\app.py\", line 1823, in full_dispatch_request\n",
      "    rv = self.dispatch_request()\n",
      "  File \"C:\\Users\\st803\\anaconda3\\lib\\site-packages\\flask\\app.py\", line 1799, in dispatch_request\n",
      "    return self.ensure_sync(self.view_functions[rule.endpoint])(**view_args)\n",
      "  File \"C:\\Users\\st803\\AppData\\Local\\Temp\\ipykernel_2992\\3113500189.py\", line 42, in predict\n",
      "    df_2['tenure_group'] = pd.cut(df_2.tenure.astype(int), range(1, 80, 12), right=False, labels=labels)\n",
      "  File \"C:\\Users\\st803\\anaconda3\\lib\\site-packages\\pandas\\core\\generic.py\", line 5912, in astype\n",
      "    new_data = self._mgr.astype(dtype=dtype, copy=copy, errors=errors)\n",
      "  File \"C:\\Users\\st803\\anaconda3\\lib\\site-packages\\pandas\\core\\internals\\managers.py\", line 419, in astype\n",
      "    return self.apply(\"astype\", dtype=dtype, copy=copy, errors=errors)\n",
      "  File \"C:\\Users\\st803\\anaconda3\\lib\\site-packages\\pandas\\core\\internals\\managers.py\", line 304, in apply\n",
      "    applied = getattr(b, f)(**kwargs)\n",
      "  File \"C:\\Users\\st803\\anaconda3\\lib\\site-packages\\pandas\\core\\internals\\blocks.py\", line 580, in astype\n",
      "    new_values = astype_array_safe(values, dtype, copy=copy, errors=errors)\n",
      "  File \"C:\\Users\\st803\\anaconda3\\lib\\site-packages\\pandas\\core\\dtypes\\cast.py\", line 1292, in astype_array_safe\n",
      "    new_values = astype_array(values, dtype, copy=copy)\n",
      "  File \"C:\\Users\\st803\\anaconda3\\lib\\site-packages\\pandas\\core\\dtypes\\cast.py\", line 1237, in astype_array\n",
      "    values = astype_nansafe(values, dtype, copy=copy)\n",
      "  File \"C:\\Users\\st803\\anaconda3\\lib\\site-packages\\pandas\\core\\dtypes\\cast.py\", line 1154, in astype_nansafe\n",
      "    return lib.astype_intsafe(arr, dtype)\n",
      "  File \"pandas\\_libs\\lib.pyx\", line 668, in pandas._libs.lib.astype_intsafe\n",
      "ValueError: cannot convert float NaN to integer\n",
      "127.0.0.1 - - [15/Jun/2024 23:00:30] \"POST / HTTP/1.1\" 500 -\n"
     ]
    }
   ],
   "source": [
    "\n",
    "@app.route(\"/\", methods=['POST'])\n",
    "def predict():\n",
    "    inputQuery1 = request.form['query1']\n",
    "    inputQuery2 = request.form['query2']\n",
    "    inputQuery3 = request.form['query3']\n",
    "    inputQuery4 = request.form['query4']\n",
    "    inputQuery5 = request.form['query5']\n",
    "    inputQuery6 = request.form['query6']\n",
    "    inputQuery7 = request.form['query7']\n",
    "    inputQuery8 = request.form['query8']\n",
    "    inputQuery9 = request.form['query9']\n",
    "    inputQuery10 = request.form['query10']\n",
    "    inputQuery11 = request.form['query11']\n",
    "    inputQuery12 = request.form['query12']\n",
    "    inputQuery13 = request.form['query13']\n",
    "    inputQuery14 = request.form['query14']\n",
    "    inputQuery15 = request.form['query15']\n",
    "    inputQuery16 = request.form['query16']\n",
    "    inputQuery17 = request.form['query17']\n",
    "    inputQuery18 = request.form['query18']\n",
    "    inputQuery19 = request.form['query19']\n",
    "\n",
    "    model = pickle.load(open(\"model.sav\", \"rb\"))\n",
    "    \n",
    "    data = [[inputQuery1, inputQuery2, inputQuery3, inputQuery4, inputQuery5, inputQuery6, inputQuery7, \n",
    "             inputQuery8, inputQuery9, inputQuery10, inputQuery11, inputQuery12, inputQuery13, inputQuery14,\n",
    "             inputQuery15, inputQuery16, inputQuery17, inputQuery18, inputQuery19]]\n",
    "    \n",
    "    new_df = pd.DataFrame(data, columns = ['SeniorCitizen', 'MonthlyCharges', 'TotalCharges', 'gender', \n",
    "                                           'Partner', 'Dependents', 'PhoneService', 'MultipleLines', 'InternetService',\n",
    "                                           'OnlineSecurity', 'OnlineBackup', 'DeviceProtection', 'TechSupport',\n",
    "                                           'StreamingTV', 'StreamingMovies', 'Contract', 'PaperlessBilling',\n",
    "                                           'PaymentMethod', 'tenure'])\n",
    "    \n",
    "    # Load your existing data\n",
    "    df_1 = pd.read_csv('tel_churn.csv')\n",
    "    \n",
    "    df_2 = pd.concat([df_1, new_df], ignore_index=True) \n",
    "    # Group the tenure in bins of 12 months\n",
    "    labels = [\"{0} - {1}\".format(i, i + 11) for i in range(1, 72, 12)]\n",
    "    \n",
    "    df_2['tenure_group'] = pd.cut(df_2.tenure.astype(int), range(1, 80, 12), right=False, labels=labels)\n",
    "    # Drop column tenure\n",
    "    df_2.drop(columns=['tenure'], axis=1, inplace=True)   \n",
    "    \n",
    "    new_df_dummies = pd.get_dummies(df_2[['gender', 'SeniorCitizen', 'Partner', 'Dependents', 'PhoneService',\n",
    "           'MultipleLines', 'InternetService', 'OnlineSecurity', 'OnlineBackup',\n",
    "           'DeviceProtection', 'TechSupport', 'StreamingTV', 'StreamingMovies',\n",
    "           'Contract', 'PaperlessBilling', 'PaymentMethod','tenure_group']])\n",
    "    \n",
    "    single = model.predict(new_df_dummies.tail(1))\n",
    "    probability = model.predict_proba(new_df_dummies.tail(1))[:, 1]\n",
    "    \n",
    "    if single == 1:\n",
    "        o1 = \"This customer is likely to churn!\"\n",
    "        o2 = \"Confidence: {:.2f}%\".format(probability[0] * 100)\n",
    "    else:\n",
    "        o1 = \"This customer is likely to continue!\"\n",
    "        o2 = \"Confidence: {:.2f}%\".format(probability[0] * 100)\n",
    "        \n",
    "    return render_template('home.html', output1=o1, output2=o2, \n",
    "                           query1=inputQuery1, \n",
    "                           query2=inputQuery2,\n",
    "                           query3=inputQuery3,\n",
    "                           query4=inputQuery4,\n",
    "                           query5=inputQuery5, \n",
    "                           query6=inputQuery6, \n",
    "                           query7=inputQuery7, \n",
    "                           query8=inputQuery8, \n",
    "                           query9=inputQuery9, \n",
    "                           query10=inputQuery10, \n",
    "                           query11=inputQuery11, \n",
    "                           query12=inputQuery12, \n",
    "                           query13=inputQuery13, \n",
    "                           query14=inputQuery14, \n",
    "                           query15=inputQuery15, \n",
    "                           query16=inputQuery16, \n",
    "                           query17=inputQuery17,\n",
    "                           query18=inputQuery18, \n",
    "                           query19=inputQuery19)\n",
    "    \n",
    "if __name__ == '__main__':\n",
    "    app.run()"
   ]
  },
  {
   "cell_type": "code",
   "execution_count": null,
   "id": "b415f3e4",
   "metadata": {},
   "outputs": [],
   "source": []
  }
 ],
 "metadata": {
  "kernelspec": {
   "display_name": "Python 3 (ipykernel)",
   "language": "python",
   "name": "python3"
  },
  "language_info": {
   "codemirror_mode": {
    "name": "ipython",
    "version": 3
   },
   "file_extension": ".py",
   "mimetype": "text/x-python",
   "name": "python",
   "nbconvert_exporter": "python",
   "pygments_lexer": "ipython3",
   "version": "3.9.13"
  }
 },
 "nbformat": 4,
 "nbformat_minor": 5
}
